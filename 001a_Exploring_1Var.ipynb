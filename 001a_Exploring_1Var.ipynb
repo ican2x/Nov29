{
 "cells": [
  {
   "cell_type": "code",
   "execution_count": null,
   "source": [
    "import thinkplot\n",
    "import thinkstats2\n",
    "import pandas as pd\n",
    "import numpy as np"
   ],
   "outputs": [],
   "metadata": {}
  },
  {
   "cell_type": "markdown",
   "source": [
    "I want to find a home in Edmonton. I need your help!\n",
    "\n",
    "We need to start looking at information on home prices so I can start to see if I can afford a house. I've grabbed the property assessment data for all purely residential properties in Edmonton. (In theory this should be the entire population of homes in Edmonton, in reality, it is probably a sample as there's some properties that are oddly classified - e.g. part farm, part residential or BnB, etc...)\n",
    "\n",
    "We should probably start with loading the data into a useful format, the file is in Assessments.csv"
   ],
   "metadata": {}
  },
  {
   "cell_type": "code",
   "execution_count": null,
   "source": [
    "#Load data from CSV and put in a useful data structure\n",
    "#Grab the CSV\n"
   ],
   "outputs": [],
   "metadata": {}
  },
  {
   "cell_type": "markdown",
   "source": [
    "The data is all loaded up. We should first figure out what we have..."
   ],
   "metadata": {}
  },
  {
   "cell_type": "code",
   "execution_count": null,
   "source": [
    "#Examine the data. We may want to create another code cell and look at the data in more than one way.\n"
   ],
   "outputs": [],
   "metadata": {}
  },
  {
   "cell_type": "markdown",
   "source": [
    "Price time! I care about dollars and cents, what can you tell me about the prices of homes in Edmonton?"
   ],
   "metadata": {}
  },
  {
   "cell_type": "code",
   "execution_count": null,
   "source": [
    "#Show some insight(s) on the prices of homes in Edmonton\n",
    "#Note : you can add this on the end of stuff to remove scientific notation.\n",
    "#It isn't universal, but should work for what your solution is: .apply(lambda x: format(x, 'f'))\n",
    "#df[\"Assessed Value\"].mean()\n"
   ],
   "outputs": [],
   "metadata": {}
  },
  {
   "cell_type": "markdown",
   "source": [
    "I think I want a garage. Are places with garages more expensive?\n",
    "(After completing this, think about if there are any circumstances that are unclear or unaccounted for when we answer this question.)"
   ],
   "metadata": {}
  },
  {
   "cell_type": "code",
   "execution_count": null,
   "source": [],
   "outputs": [],
   "metadata": {}
  },
  {
   "cell_type": "markdown",
   "source": [
    "1. Make list of all houses with garage\n",
    "2. Make list of all houses without garage\n",
    "3. Take average of each\n",
    "4. Compare the two averages"
   ],
   "metadata": {}
  },
  {
   "cell_type": "code",
   "execution_count": null,
   "source": [
    "#Are garage houses more expensive?\n",
    "\n",
    "#Create list of garage houses\n",
    "\n",
    "#Create list of non-garage houses\n"
   ],
   "outputs": [],
   "metadata": {}
  },
  {
   "cell_type": "code",
   "execution_count": null,
   "source": [
    "#Take means\n",
    "#Take mean of a dataframe column\n",
    "\n",
    "\n",
    "#compare means\n",
    "#sutract two numbers\n"
   ],
   "outputs": [],
   "metadata": {}
  },
  {
   "cell_type": "markdown",
   "source": [
    "We can measure this formally with something called the Effect Size. The function for effect size is in the next cell. "
   ],
   "metadata": {}
  },
  {
   "cell_type": "code",
   "execution_count": null,
   "source": [
    "\n",
    "def CohenEffectSize(group1, group2):\n",
    "    \"\"\"Computes Cohen's effect size for two groups.\n",
    "    \n",
    "    group1: Series or DataFrame\n",
    "    group2: Series or DataFrame\n",
    "    \n",
    "    returns: float if the arguments are Series;\n",
    "             Series if the arguments are DataFrames\n",
    "    \"\"\"\n",
    "    diff = group1.mean() - group2.mean()\n",
    "\n",
    "    var1 = group1.var()\n",
    "    var2 = group2.var()\n",
    "    n1, n2 = len(group1), len(group2)\n",
    "\n",
    "    pooled_var = (n1 * var1 + n2 * var2) / (n1 + n2)\n",
    "    d = diff / np.sqrt(pooled_var)\n",
    "    return d"
   ],
   "outputs": [],
   "metadata": {}
  },
  {
   "cell_type": "markdown",
   "source": [
    "Compute the Cohen Effect Size. Why is this often more useful than just comparing the values like we did above? What can we gather from the value calculated here?"
   ],
   "metadata": {}
  },
  {
   "cell_type": "code",
   "execution_count": null,
   "source": [
    "#Compute Cohen Effect Size\n"
   ],
   "outputs": [],
   "metadata": {}
  },
  {
   "cell_type": "markdown",
   "source": [
    "All this is cool and all, but I want some more information on how much houses cost. What could be a better way to show this....\n",
    "\n",
    "Can I find a bunch of houses for $100k? $200k? $500k? If I win the lottery, do I have a wide selection of homes that are $10 million?"
   ],
   "metadata": {}
  },
  {
   "cell_type": "markdown",
   "source": [
    "The book provides a helper to make histograms easier. This code is the basic way to create one, we can adapt it to any data:\n",
    "\n",
    "Hist_object = thinkstats2.Hist(\"The data you want\", label=\"What you want to label it\")\n",
    "thinkplot.PrePlot(1) #How many 'things' are goint to be graphed\n",
    "thinkplot.Hist(Hist_object)\n",
    "thinkplot.Config(xlabel=\"xaxis label\", ylabel=\"yaxis label\", xlim=[0,500000], ylim=[0,15000])"
   ],
   "metadata": {}
  },
  {
   "cell_type": "code",
   "execution_count": null,
   "source": [
    "#Create a histogram to show prices of homes and the distribution"
   ],
   "outputs": [],
   "metadata": {}
  },
  {
   "cell_type": "markdown",
   "source": [
    "Sweet, that's more helpful. Can we look at how the distribution is for garage vs non-garage?"
   ],
   "metadata": {}
  },
  {
   "cell_type": "code",
   "execution_count": null,
   "source": [
    "#Create double histogram \n"
   ],
   "outputs": [],
   "metadata": {}
  },
  {
   "cell_type": "markdown",
   "source": [
    "It looks like the \"shape\" (distribution) of the house prices is kind of different for the garage vs. not garage, e.g. the garage ones have a tail that goes out to be really expensive...\r\n",
    "\r\n",
    "We can measure this, as it is often a useful thing to know. The variance is a measure of how different each measure is from the mean;\r\n",
    "var = (sum(val-mean)^2)/(num_records - 1)\r\n",
    "More varaince, the 'farther' the average value is from the mean, or the more spread out the data is. "
   ],
   "metadata": {}
  },
  {
   "cell_type": "code",
   "execution_count": null,
   "source": [
    "#What is the variance of each set?\n"
   ],
   "outputs": [],
   "metadata": {}
  },
  {
   "cell_type": "markdown",
   "source": [
    "The varaince gives us an idea of which dataset is more or less spread out, but for individual values, it isn't that useful.\r\n",
    "\r\n",
    "We also have the standard deviation, which is more useful overall. It is just the square root of the varaiance. \r\n",
    "\r\n",
    "The standard deviation is (kind of) how far away from the mean we expect a typical value to be. E.g. if the average male is 6 feet tall and the standard deviation is 1 inch, we can expect the typical person to be around 5'11\" to 6'1\", pretty tightly grouped. If the standard deviation is 4 inches, we'd expect the heights to be much more varied - around 5.8 to 6.4. \r\n"
   ],
   "metadata": {}
  },
  {
   "cell_type": "code",
   "execution_count": null,
   "source": [
    "#Calculate standard deviation of each set\n"
   ],
   "outputs": [],
   "metadata": {}
  },
  {
   "cell_type": "markdown",
   "source": [
    "Based of of what we can see in the histograms and the standard deviation, is there anything that we can do to make our analysis a little bit better?\r\n",
    "\r\n",
    "Remember, I want a home - can I really buy one on the far left of the histogram? What's up there?"
   ],
   "metadata": {}
  },
  {
   "cell_type": "code",
   "execution_count": null,
   "source": [
    "#Filter out 0ish prices"
   ],
   "outputs": [],
   "metadata": {}
  },
  {
   "cell_type": "markdown",
   "source": [
    "What about the baller houses? There's a few that are really expensive, look more at those that are at least 1 million. "
   ],
   "metadata": {}
  },
  {
   "cell_type": "code",
   "execution_count": null,
   "source": [
    "#Hist of homes over 1 million"
   ],
   "outputs": [],
   "metadata": {}
  },
  {
   "cell_type": "markdown",
   "source": [
    "Helpful!! Thanks so much. Here's some other things to try..."
   ],
   "metadata": {}
  },
  {
   "cell_type": "code",
   "execution_count": null,
   "source": [
    "#Choose two neighborhoods (maybe one you live in, and one you'd like). Calculate the effect size between the two, and graph\n",
    "#the histogram of both. Does this match your real life understanding? "
   ],
   "outputs": [],
   "metadata": {}
  },
  {
   "cell_type": "code",
   "execution_count": null,
   "source": [
    "#The non-garage homes look realllllllly cheap. Is there anything that can explain this?\n",
    "#Is there anything that can be done to make our analysis more representative? "
   ],
   "outputs": [],
   "metadata": {}
  },
  {
   "cell_type": "markdown",
   "source": [
    "Lastly... functions. What if I was a 'Murican and wanted to see prices in freedom dollars?\n",
    "Create a function to do that (convert CAD to USD).\n",
    "Assume a static exchange rate of 1CAD =.79USD"
   ],
   "metadata": {}
  },
  {
   "cell_type": "code",
   "execution_count": null,
   "source": [
    "def cadUSD(cadDollars):\n",
    "    #Add code here, so that the usDollars variable is just that.\n",
    "    #Try to use this somewhere in your code.\n",
    "    usDollars = 0\n",
    "    return usDollars"
   ],
   "outputs": [],
   "metadata": {}
  }
 ],
 "metadata": {
  "orig_nbformat": 4,
  "language_info": {
   "name": "python",
   "version": "3.8.3",
   "mimetype": "text/x-python",
   "codemirror_mode": {
    "name": "ipython",
    "version": 3
   },
   "pygments_lexer": "ipython3",
   "nbconvert_exporter": "python",
   "file_extension": ".py"
  },
  "kernelspec": {
   "name": "python3",
   "display_name": "Python 3.8.3 64-bit ('base': conda)"
  },
  "interpreter": {
   "hash": "f7dd21bfe8933d21e2c58a22bc74eff6eccb2180dc6c2e2695cf2d3822934f32"
  }
 },
 "nbformat": 4,
 "nbformat_minor": 2
}