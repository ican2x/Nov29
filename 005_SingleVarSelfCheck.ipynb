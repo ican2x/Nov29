{
 "cells": [
  {
   "cell_type": "markdown",
   "source": [
    "This is a (mostly) empty template that can be used for a little bit of a self check of the CH 1-4 stuff, or the basic examination of one varaible.\n",
    "\n",
    "This is useful becuase there's very little guidance, so you'll need to figure out what to do on your own. Looking forward, one of the primary reasons that we need to know this stuff for machine learning is something called Exploratory Data Analysis (EDA), which is usually the first step in doing machine learning stuff. We take whatever data we're using, load it up, and look through it to see if anything is wrong, weird, useful, or interersting. This helps us prepare our data for the ML work, to make things as accurate and reliable as possible. This little bit is kind of part 1 of EDA that you'll need to do later on.\n",
    "\n",
    "The first dataset is pretty simple. The second is slightly more complex. "
   ],
   "metadata": {}
  },
  {
   "cell_type": "markdown",
   "source": [
    "Here's a few potentially useful things that you don't need to memorize:\n",
    "Get rid of any non-numbers: newDataFrame = oldDF[~np.isnan(oldDF)]\n",
    "Apply a function to everything in a dataframe (one with one column!):\n",
    " (e.g. mult by 2.54): dataFrame.apply(lambda x: x*2.54)\n",
    " (e.g. )"
   ],
   "metadata": {}
  },
  {
   "cell_type": "code",
   "execution_count": null,
   "source": [
    "#Import Stuff"
   ],
   "outputs": [],
   "metadata": {}
  },
  {
   "cell_type": "code",
   "execution_count": null,
   "source": [
    "#Load the data\n",
    "#filename is 'HeightWeight.csv\"\n",
    "#Look at the weight."
   ],
   "outputs": [],
   "metadata": {}
  },
  {
   "cell_type": "code",
   "execution_count": null,
   "source": [
    "#Do basic exploration - range, min, max, std, mean...\n",
    "#Ask yourself, does this match your understanding of reality?"
   ],
   "outputs": [],
   "metadata": {}
  },
  {
   "cell_type": "code",
   "execution_count": null,
   "source": [
    "#Graph it, can you make a histogram, PMF, CDF?\n",
    "#When you look at it, does it make sense?"
   ],
   "outputs": [],
   "metadata": {}
  },
  {
   "cell_type": "code",
   "execution_count": null,
   "source": [
    "#Split the data. Do the stats and graphs for each gender.\n",
    "#Again, does it make sense? Match your understanding of reality?"
   ],
   "outputs": [],
   "metadata": {}
  },
  {
   "cell_type": "code",
   "execution_count": null,
   "source": [
    "#In your exploration, did anythign stand out? Are there weird patterns? Outliers? Things that\n",
    "#don't make sense? Errors? Incorrect values?\n",
    "#(This dataset is pretty simple, so if you don't see anything crazy, that's normal)"
   ],
   "outputs": [],
   "metadata": {}
  },
  {
   "cell_type": "markdown",
   "source": [
    "Repeat the basic process with this more complex data. For this, you might need to do more investigation/examination - particulary with things like errors, outliers, etc....\n",
    "\n",
    "This is kind of realistic - here's some data, is there anything we need to 'worry' about in using it? Does anything jump out as potentially interesting? Or possibly indicitive of something? \n",
    "\n",
    "If you consider WAGE as the varaible you care about - look for dasic descriptions, patterns, outliers or errors. Do things like POSITION or NATIONALITY indicate any differences in the WAGE?"
   ],
   "metadata": {}
  },
  {
   "cell_type": "code",
   "execution_count": null,
   "source": [
    "#Filename is \"fifa_eda.csv\""
   ],
   "outputs": [],
   "metadata": {}
  }
 ],
 "metadata": {
  "orig_nbformat": 4,
  "language_info": {
   "name": "python"
  }
 },
 "nbformat": 4,
 "nbformat_minor": 2
}