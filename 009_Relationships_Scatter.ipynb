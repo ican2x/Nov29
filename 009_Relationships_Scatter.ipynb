{
 "cells": [
  {
   "cell_type": "code",
   "execution_count": null,
   "source": [
    "#Import Stuff\n",
    "import thinkplot\n",
    "import thinkstats2\n",
    "import pandas as pd\n",
    "import numpy as np\n",
    "import matplotlib.pyplot as plt\n",
    "import seaborn as sns\n",
    "import scipy.stats as ss"
   ],
   "outputs": [],
   "metadata": {}
  },
  {
   "cell_type": "markdown",
   "source": [
    "One very iportant concept, especially for machine learning, is examining the relationship between two varaibles.\n",
    "Take height and weight - as you look at taller people, they probably get heavier, but the relationship isn't exact. Danny DeVito is 4'8\" and 194lb, NBA player Lonzo Ball is listed as 6'6\" and 190lb! Clearly there's some variation in there.\n",
    "\n",
    "We can analyze and measure the strength of these relationships of one varaible to another, and use that to better undertand our data, and do things like select varaibles for machine learning. \n",
    "\n",
    "A primary tool for examining these relationships is a scatter plot - one varaible on the X axis, the other on the Y, and a point for each value. The shape that all these points create will illustrate the relationship"
   ],
   "metadata": {}
  },
  {
   "cell_type": "code",
   "execution_count": null,
   "source": [
    "#Load hieght weight data. \n",
    "df = pd.read_csv(\"cardio_train.csv\", sep=\";\")\n",
    "df.describe()"
   ],
   "outputs": [],
   "metadata": {}
  },
  {
   "cell_type": "code",
   "execution_count": null,
   "source": [
    "df.head()"
   ],
   "outputs": [],
   "metadata": {}
  },
  {
   "cell_type": "code",
   "execution_count": null,
   "source": [
    "#Change the days into years, so it is more understandable\n",
    "df[\"age\"] = round(df[\"age\"]/365, 0)\n",
    "df.head()"
   ],
   "outputs": [],
   "metadata": {}
  },
  {
   "cell_type": "code",
   "execution_count": null,
   "source": [
    "#Create a scatterplot. Note scatterplots don't really need a preceeding object like a hist, it is just mapping points on a plot.\n",
    "thinkplot.Scatter(df[\"height\"], df[\"weight\"])\n",
    "thinkplot.Show(xlabel=\"Height\", ylabel=\"Weight\", axis=[120,220,20,160])"
   ],
   "outputs": [],
   "metadata": {}
  },
  {
   "cell_type": "markdown",
   "source": [
    "As people get taller, they get heavier. It isn't an extremely clear relationship though. "
   ],
   "metadata": {}
  },
  {
   "cell_type": "code",
   "execution_count": null,
   "source": [
    "#Add jitter\n",
    "thinkplot.Scatter(thinkstats2.Jitter(df[\"height\"]), thinkstats2.Jitter(df[\"weight\"]), alpha=.3)\n",
    "thinkplot.Show(xlabel=\"Height\", ylabel=\"Weight\", axis=[120,220,20,160])"
   ],
   "outputs": [],
   "metadata": {}
  },
  {
   "cell_type": "code",
   "execution_count": null,
   "source": [
    "#Hexbin\n",
    "thinkplot.HexBin(thinkstats2.Jitter(df[\"height\"]), thinkstats2.Jitter(df[\"weight\"]))\n",
    "thinkplot.Show(xlabel=\"Height\", ylabel=\"Weight\", axis=[120,220,20,160])"
   ],
   "outputs": [],
   "metadata": {}
  },
  {
   "cell_type": "markdown",
   "source": [
    "All of these visualizations show the same basic thing - the relationship between height and weight. \n",
    "\n",
    "We can measure the strength of that relationship, that's called correlation."
   ],
   "metadata": {}
  },
  {
   "cell_type": "code",
   "execution_count": null,
   "source": [
    "#Calculate both correlation metrics\n",
    "a=df[\"height\"].values.tolist()\n",
    "b=df[\"weight\"].values.tolist()\n",
    "thinkstats2.Corr(a, b), thinkstats2.SpearmanCorr(a,b)\n",
    "#a,b"
   ],
   "outputs": [],
   "metadata": {}
  },
  {
   "cell_type": "markdown",
   "source": [],
   "metadata": {}
  },
  {
   "cell_type": "code",
   "execution_count": null,
   "source": [
    "#Cut down data to only numeric values, and fliter out some outliers. \n",
    "df2 = df[[\"age\", \"gender\", \"height\", \"weight\", \"ap_lo\", \"ap_hi\"]]\n",
    "df2 = df2[(df2[\"height\"]>110) & (df2[\"height\"] < 200)]"
   ],
   "outputs": [],
   "metadata": {}
  },
  {
   "cell_type": "code",
   "execution_count": null,
   "source": [
    "#Generate pairplot\n",
    "sns.pairplot(df2, dropna=True, hue=\"gender\")\n",
    "plt.show()"
   ],
   "outputs": [],
   "metadata": {}
  },
  {
   "cell_type": "code",
   "execution_count": null,
   "source": [
    "#Generate regression plot (pretty scatterplot with regression)\n",
    "sns.regplot(x=df2[\"height\"], y=df2[\"weight\"], robust=True, data=df2, n_boot=1000, x_jitter=.2, y_jitter=.2, ci=85)"
   ],
   "outputs": [],
   "metadata": {}
  },
  {
   "cell_type": "markdown",
   "source": [
    "We can now load some different data, do some data cleanup, and look at correlations a bit more. "
   ],
   "metadata": {}
  },
  {
   "cell_type": "code",
   "execution_count": null,
   "source": [
    "#Load drug dataset and drop some values, so the total volume of data is manageable. \n",
    "drg = pd.read_csv(\"drug-use-by-age.csv\")\n",
    "drg = drg.drop(columns=[\"n\", 'alcohol-frequency','marijuana-frequency', 'cocaine-frequency','crack-frequency', 'heroin-frequency','hallucinogen-frequency', 'inhalant-frequency',\n",
    "    'pain-releiver-frequency','oxycontin-frequency','tranquilizer-frequency','stimulant-frequency','meth-frequency','sedative-frequency', 'pain-releiver-use', 'stimulant-use'])\n",
    "drg.head()"
   ],
   "outputs": [],
   "metadata": {}
  },
  {
   "cell_type": "code",
   "execution_count": null,
   "source": [
    "#Generate pairplot\n",
    "sns.pairplot(drg, dropna=True, kind=\"reg\")\n",
    "plt.show()"
   ],
   "outputs": [],
   "metadata": {}
  },
  {
   "cell_type": "code",
   "execution_count": null,
   "source": [
    "#Take the data in our dataframe, and change it into a set of correlations. \n",
    "drg2 = drg.apply(pd.to_numeric, errors='coerce')\n",
    "drg2 = drg2.drop(columns=[\"age\"])\n",
    "drg2 = drg2.corr()\n",
    "drg2.head()"
   ],
   "outputs": [],
   "metadata": {}
  },
  {
   "cell_type": "code",
   "execution_count": null,
   "source": [
    "#Show Correlations in heatmap\n",
    "plt.rcParams[\"figure.figsize\"] = (20,10)\n",
    "mask = np.triu(np.ones_like(drg2, dtype=bool))\n",
    "sns.heatmap(drg2, center=0, linewidths=.5, annot=True, cmap=\"YlGnBu\", yticklabels=True, mask=mask)\n",
    "plt.show()"
   ],
   "outputs": [],
   "metadata": {}
  },
  {
   "cell_type": "markdown",
   "source": [
    "We can use our newfound correlation skills to look at something near and dear to my heart - diabetes!\n",
    "\n",
    "In this data we have a bunch of common values that are tracked for diabetic people, the Outcome varaible is a measure of if that person has diabetes. \n",
    "\n",
    "Part 1: Load some data and take a preview. Look for correlations visually and calculate some that appear to be correlated numerically. "
   ],
   "metadata": {}
  },
  {
   "cell_type": "code",
   "execution_count": null,
   "source": [
    "#Read Diabetic Data and change to mmol/L, ditch 0 glucose (errors)\n",
    "#d[\"Glucose\"] = d[\"Glucose\"]/18.018\n",
    "#My initial dataframe name is just d, filename is diabetes.csv"
   ],
   "outputs": [],
   "metadata": {}
  },
  {
   "cell_type": "code",
   "execution_count": null,
   "source": [
    "#Describe data \n"
   ],
   "outputs": [],
   "metadata": {}
  },
  {
   "cell_type": "code",
   "execution_count": null,
   "source": [
    "#Look for correlations visually"
   ],
   "outputs": [],
   "metadata": {}
  },
  {
   "cell_type": "code",
   "execution_count": null,
   "source": [
    "#Calculate some correleations. Use both regular correlation and spearman. \n"
   ],
   "outputs": [],
   "metadata": {}
  },
  {
   "cell_type": "markdown",
   "source": [
    "One thing jumped out there - there are several things with 0 or near 0 values that don't make sense, e.g. Blood Pressure, skin thickness, and BMI\n",
    "\n",
    "We should clean up our data and then look again. \n",
    "\n",
    "NOTE: Do not filter out 0 Insulin people, that is a valid measure. \n",
    "Part 2: Refine our examination. This time, add: hue=\"Outcome\" as an argument in the pairplot. "
   ],
   "metadata": {}
  },
  {
   "cell_type": "code",
   "execution_count": null,
   "source": [
    "#Filter out 0s. Rerun graphs. "
   ],
   "outputs": [],
   "metadata": {}
  },
  {
   "cell_type": "code",
   "execution_count": null,
   "source": [
    "#Look for correlations visually with updated data. \n",
    "#sns.pairplot(d, dropna=True, kind=\"reg\", hue=\"Outcome\") #The hue colors the diabetic people differently\n",
    "#plt.show()"
   ],
   "outputs": [],
   "metadata": {}
  },
  {
   "cell_type": "markdown",
   "source": [
    "That cleans up our data a little. Since this data is about a glucose test, we can detour to examine glucose more closely...\n",
    "\n",
    "Part 3: Examine the distribution of glucose:"
   ],
   "metadata": {}
  },
  {
   "cell_type": "code",
   "execution_count": null,
   "source": [
    "#Look at glucose overall first. \n"
   ],
   "outputs": [],
   "metadata": {}
  },
  {
   "cell_type": "code",
   "execution_count": null,
   "source": [
    "#Split by if you're diabetic or not. and look at glucose distribution for each group\n",
    "\n",
    "#NOTE THIS ONE USES A NEW SNS FUNCTION. IT MAY NOT WORK FOR YOU. USE DISTPLOT LIKE THE PREVIOUS EXAMPLE AND ADAPT IT\n",
    "#OR USE THINKPLOT LIKE ABOVE. THIS DEPENDS ON THE VERSION OF SEABORN THAT IS INSTALLED ON YOUR COMPUTER, NOT ANYTHING YOU'VE DONE.\n",
    "#sns.displot(data=d, x=\"Glucose\", kde=True, col=\"Outcome\")"
   ],
   "outputs": [],
   "metadata": {}
  },
  {
   "cell_type": "markdown",
   "source": [
    "Whoa! Way different. Diabetic people are in shambles and normal people are... well... normal. \n",
    "\n",
    "We can take our normal people and treat them as normal - quick detour into analytical distributions....\n",
    "\n",
    "Part 4: Take non diabetic people and create analytical distribution for them. "
   ],
   "metadata": {}
  },
  {
   "cell_type": "code",
   "execution_count": null,
   "source": [
    "#Non-Diabetic people are normal!?! Look at a Normal Probability Plot to assess. "
   ],
   "outputs": [],
   "metadata": {}
  },
  {
   "cell_type": "markdown",
   "source": [
    "The normal probability plot looks pretty good. Why don't we make an analytical distribution out of our data?"
   ],
   "metadata": {}
  },
  {
   "cell_type": "code",
   "execution_count": null,
   "source": [
    "#Create a normal distribution. Because we have stated \"it is normal\", we only need mean and std to define it. \n",
    "norm = ss.norm(loc=d_neg[\"Glucose\"].mean(), scale=d_neg[\"Glucose\"].std())\n",
    "#Print some stats... Note mean and median. \n",
    "norm.cdf(6), norm.median(), norm.mean()"
   ],
   "outputs": [],
   "metadata": {}
  },
  {
   "cell_type": "code",
   "execution_count": null,
   "source": [
    "#Create a histogram - We will take our new distribution and create some random values mirroring that\n",
    "sns.distplot(norm.rvs(size=10000), color=\"blue\")\n",
    "sns.distplot(d_neg[\"Glucose\"], color=\"red\")\n",
    "plt.show()"
   ],
   "outputs": [],
   "metadata": {}
  },
  {
   "cell_type": "markdown",
   "source": [
    "By doing what we just did there, we effectively said - this is the distribution of glucose for non-diabetics, it is defined by this formula. The \"ss.norm...\" generates that formula if you provide mean and std. We can use that new analytical model to do stuff, like graph....\n",
    "\n",
    "What may be concerning about that...?"
   ],
   "metadata": {}
  },
  {
   "cell_type": "markdown",
   "source": [
    "Our distribution is more or less normal, but not perfect. Maybe we should consider the skew, and try to make it more accurate?\n",
    "\n",
    "Part 5: Try to make more accurate analytic models"
   ],
   "metadata": {}
  },
  {
   "cell_type": "code",
   "execution_count": null,
   "source": [
    "#What about muh skew?\n",
    "#Skewnorm is another distribution - a normal one with some skew. We calculate it, and pass it to our distribution with a=VARAIBLE_NAME\n",
    "#Other than that it is the same as above\n",
    "#norms = ss.skewnorm() <- Fill in the params\n",
    "\n",
    "norms.cdf(6), norms.median(), norms.mean(), a"
   ],
   "outputs": [],
   "metadata": {}
  },
  {
   "cell_type": "markdown",
   "source": [
    "We can also just tell the system to figure it out for us...."
   ],
   "metadata": {}
  },
  {
   "cell_type": "code",
   "execution_count": null,
   "source": [
    "#Create a model that is fitted to the data, automagically.\n",
    "ae, loce, scalee = ss.skewnorm.fit(d_neg[\"Glucose\"])\n",
    "snormFit = ss.skewnorm(ae, loce, scalee)"
   ],
   "outputs": [],
   "metadata": {}
  },
  {
   "cell_type": "code",
   "execution_count": null,
   "source": [
    "#Plot all the distributions together. "
   ],
   "outputs": [],
   "metadata": {}
  },
  {
   "cell_type": "markdown",
   "source": [
    "Once we have an analytical distribution that mirrors our data closely enough, we can use it. Some caveats:\n",
    "\n",
    "- The more data we have, the more likely we are able to make an accurate model. Generalizing from a small amount of data is more risky. \n",
    "\n",
    "- The closer the distribution is to the distribution you pick, the better. Many are normal, but not all. \n",
    "\n",
    "- Does our sample realistically match the population we are modelling? For us, this data comes from a glucose tolerance test, which is one way that doctors diagnose diabetes. You're given a glass of orange juice, then your blood sugar is measured 2 hours later. If it is really high, you're probably diabetic. Most people who have no medical issues wouldn't do this, so we probably should expect our data to be different than the total population. "
   ],
   "metadata": {}
  },
  {
   "cell_type": "code",
   "execution_count": null,
   "source": [
    "#How many people have a blood glucose in an optimal range (3.9-5.4)\n",
    "#We can use all of our distributions to make a cdf based caculation, like the examples before\n",
    "low = 3.9\n",
    "high = 5.4"
   ],
   "outputs": [],
   "metadata": {}
  },
  {
   "cell_type": "markdown",
   "source": [
    "Enough with the normies, we can go back to looking at diabetics.\n",
    "\n",
    "For people with diabetes, inspect for correlations. \n",
    "\n",
    "Part 6: Dead pancreas society"
   ],
   "metadata": {}
  },
  {
   "cell_type": "code",
   "execution_count": null,
   "source": [
    "#Take diabetic people and look for correlations\n"
   ],
   "outputs": [],
   "metadata": {}
  },
  {
   "cell_type": "code",
   "execution_count": null,
   "source": [
    "#Calculate some correleations"
   ],
   "outputs": [],
   "metadata": {}
  },
  {
   "cell_type": "code",
   "execution_count": null,
   "source": [
    "#How many diabetic people fall into that healthy range?"
   ],
   "outputs": [],
   "metadata": {}
  },
  {
   "cell_type": "markdown",
   "source": [
    "Part 7: Correlation Matrix for diabetics. "
   ],
   "metadata": {}
  },
  {
   "cell_type": "code",
   "execution_count": null,
   "source": [
    "#Create correlation dataframe\n",
    "tmp = d_pos.drop(columns=[\"Outcome\"])\n",
    "posCor = tmp.corr()\n",
    "posCor.head()"
   ],
   "outputs": [],
   "metadata": {}
  },
  {
   "cell_type": "code",
   "execution_count": null,
   "source": [
    "#Plot correlation matrix\n",
    "plt.rcParams[\"figure.figsize\"] = (20,10)\n",
    "mask = np.triu(np.ones_like(posCor, dtype=bool))\n",
    "sns.heatmap(posCor, center=0, linewidths=.5, annot=True, cmap=\"YlGnBu\", yticklabels=True, mask=mask)\n",
    "plt.show()"
   ],
   "outputs": [],
   "metadata": {}
  },
  {
   "cell_type": "markdown",
   "source": [
    "One last thing that jumps out - the insulin column. If you are (type 1 fully) diabetic, you may have no insulin in your system. If you're type 2, you'd expect insulin to skyrocket. What if we split the data along that line?\n",
    "\n",
    "Part 8: Segregate Insulin Havers "
   ],
   "metadata": {}
  },
  {
   "cell_type": "code",
   "execution_count": null,
   "source": [
    "#Split into two groups. \n"
   ],
   "outputs": [],
   "metadata": {}
  },
  {
   "cell_type": "code",
   "execution_count": null,
   "source": [
    "#Look at glucose distribution visually for both"
   ],
   "outputs": [],
   "metadata": {}
  },
  {
   "cell_type": "code",
   "execution_count": null,
   "source": [
    "#Plot people for correlations, use hue to separate insuling havers vs not. "
   ],
   "outputs": [],
   "metadata": {}
  }
 ],
 "metadata": {
  "orig_nbformat": 4,
  "language_info": {
   "name": "python",
   "version": "3.8.11",
   "mimetype": "text/x-python",
   "codemirror_mode": {
    "name": "ipython",
    "version": 3
   },
   "pygments_lexer": "ipython3",
   "nbconvert_exporter": "python",
   "file_extension": ".py"
  },
  "kernelspec": {
   "name": "python3",
   "display_name": "Python 3.8.3 64-bit ('base': conda)"
  },
  "interpreter": {
   "hash": "f7dd21bfe8933d21e2c58a22bc74eff6eccb2180dc6c2e2695cf2d3822934f32"
  }
 },
 "nbformat": 4,
 "nbformat_minor": 2
}