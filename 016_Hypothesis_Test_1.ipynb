{
 "cells": [
  {
   "cell_type": "code",
   "execution_count": null,
   "metadata": {},
   "outputs": [],
   "source": [
    "import pandas as pd\n",
    "import numpy as np\n",
    "import scipy.stats as ss\n",
    "\n",
    "##Seaborn for fancy plots. \n",
    "import matplotlib.pyplot as plt\n",
    "import seaborn as sns\n",
    "plt.rcParams[\"figure.figsize\"] = (8,8)"
   ]
  },
  {
   "cell_type": "code",
   "execution_count": null,
   "metadata": {},
   "outputs": [],
   "source": [
    "df = pd.read_csv(\"diabetes.csv\")\n",
    "df = df[df[\"BMI\"]>10]\n",
    "df = df[df[\"BloodPressure\"]>10]\n",
    "dfD = df[df[\"Outcome\"]==1]\n",
    "dfN = df[df[\"Outcome\"]==0]\n",
    "dPos = dfD.BMI\n",
    "dNeg = dfN.BMI\n",
    "df.head()"
   ]
  },
  {
   "cell_type": "markdown",
   "metadata": {},
   "source": [
    "<h1>Chance - Is the Difference in BMI Between Diabetics and Non-Diabetics Legit, or Due to Chance?</h1>\n",
    "\n",
    "<h4>We can do some testing - "
   ]
  },
  {
   "cell_type": "code",
   "execution_count": null,
   "metadata": {},
   "outputs": [],
   "source": [
    "#Basics\n",
    "print(\"Non-Diabetics mean and median\", dNeg.mean(), dNeg.median())\n",
    "print(\"Diabetics mean and median\", dPos.mean(), dPos.median())"
   ]
  },
  {
   "cell_type": "code",
   "execution_count": null,
   "metadata": {},
   "outputs": [],
   "source": [
    "sns.histplot(dPos, kde=True, stat=\"density\")\n",
    "sns.histplot(dNeg, kde=True, stat=\"density\", color='red')\n"
   ]
  },
  {
   "cell_type": "markdown",
   "metadata": {},
   "source": [
    "<h2>OK - Looks Kind of Different, What About Chance???</h2>\n",
    "\n",
    "Hypothesis testing can allow us to test if differences look to be real, or are likely to be determined by chance. \n",
    "\n",
    "This is something called a hypothesis test, and is a classic (if problematic) statistical test. Our steps will be:\n",
    "<ul>\n",
    "<li>Define a test statistic - whatever we are examining.\n",
    "<li>Define a null hypothesis - assumption that the effect is <b>not</b> real.\n",
    "<li>Compute the p-value - the probability of the null hypothesis being true. \n",
    "<li>Determine if is statistically significant - is the p-value over/under some cutoff. \n",
    "</ul><br>\n",
    "Overall, if we can determine that there is an extremely small probability that the null hypothesis is true (usually <.05), we can conclude that the impact we observered is legit. \n",
    "<br><br><br>\n",
    "<h2>Testing - t's, z's, sides, and samples</h2>\n",
    "There are a few varieties of hypothesis testing, and the labels often overlap and intersect:\n",
    "<ul>\n",
    "<li>Samples - a one sample test is to determine difference from some value. A two sample tests is comparing for a difference between two samples. \n",
    "<li>Sides - a one sided test only looks for if the test score is too high or too low. A two sided test looks for either too high or too low. \n",
    "<li>Z test - when we know the population variance. \n",
    "<li>T test - when we don't know the population variance. \n",
    "</ul>\n",
    "<br><br><br>\n",
    "<h2>Big important note - the book examples build calculations from scratch. To do they create custom classes and functions. I'm assuming that you all haven't covered this in detail in the programming class. It isn't super complex and is worth working through, but we won't do it now. Please walk through the examples in 9.1-9.4, and then 9.5-end and try to repeat and make sense of what they are coding. We'll walk though it in a week or so. Right now, we'll use library functions and simplified versions of the book stuff to do our tests.</h2>"
   ]
  },
  {
   "cell_type": "markdown",
   "metadata": {},
   "source": [
    "First, we need a test statistic. For this one it will be the BMI - we want to determine if the BMI of diabetics being higher than the non-diabetics is due to chance or not? Aka is this difference statistically significant. \n",
    "\n",
    "<p>This will be a two sample t-test, it will be one-sided (as I phrased it) because we are specifying that we are testing if it is larger. Time for some investigation...\n",
    "\n",
    "<b>Null hypothesis - the increase in BMI between diabetics and nondiabetics is due to chance. </b>"
   ]
  },
  {
   "cell_type": "code",
   "execution_count": null,
   "metadata": {},
   "outputs": [],
   "source": [
    "#Get some basic stats\n",
    "meanPos, stdPos, varPos, nPos = dPos.mean(), dPos.std(), dPos.var(), dPos.count()\n",
    "print(meanPos, stdPos, varPos, nPos)\n",
    "meanNeg, stdNeg, varNeg, nNeg = dNeg.mean(), dNeg.std(), dNeg.var(), dNeg.count()\n",
    "print(meanNeg, stdNeg, varNeg, nNeg)"
   ]
  },
  {
   "cell_type": "markdown",
   "metadata": {},
   "source": [
    "The varainaces are very close, which means that the standard t-test is valid. The difference in the means is what we will tests - is that difference likely to be real, or due to chance?"
   ]
  },
  {
   "cell_type": "code",
   "execution_count": null,
   "metadata": {},
   "outputs": [],
   "source": [
    "#Scipy ttest: https://docs.scipy.org/doc/scipy/reference/generated/scipy.stats.ttest_ind.html\n",
    "stat, pval = ss.ttest_ind(dPos, dNeg, alternative=\"greater\")\n",
    "pval"
   ]
  },
  {
   "cell_type": "code",
   "execution_count": null,
   "metadata": {},
   "outputs": [],
   "source": [
    "#Check for signifigance\n",
    "cutoff = .05\n",
    "if pval < cutoff:\n",
    "    print(\"Reject null hypothesis - Effect appears significant\")\n",
    "else:\n",
    "    print(\"Accept null hypothesis - Effect may be due to random chance\")"
   ]
  },
  {
   "cell_type": "markdown",
   "metadata": {},
   "source": [
    "<h3>What is happening? (this is what the book part walks through)</h3>\n",
    "It is similar in concept to the CI stuff we did...\n",
    "<ul>\n",
    "<li>Using the data to generate random trials.\n",
    "<li>Counting how many exceed the test statistic\n",
    "<li>If that number is high, then it is likely to be random\n",
    "</ul>\n",
    "\n",
    "We can do a really simple one to explore...\n",
    "\n",
    "<h1>Hypothesis Test, by hand, with simple probabilistic scenario</h1>\n",
    "\n",
    "We flip a coin 100 times and get 55 Heads. Is the coin fair?\n",
    "\n",
    "Null hypothesis - the difference in heads and tails being at least 10 is due to random chance. The book has a similar example that is built 'properly' with functions and classes - this is pretty much what it is doing. The one there is generalized - we can just add some definitions for the specific scenario and reuse the guts of the test instead of rewriting everything from scratch. "
   ]
  },
  {
   "cell_type": "code",
   "execution_count": null,
   "metadata": {},
   "outputs": [],
   "source": [
    "#Define Test Statistic\n",
    "testStat = 10 #We are examining the chances that the difference from even is 10: 55 heads, 45 tails. \n",
    "#The loop below does some trials - 'flip a coin' 100 times, count up the diff between heads and tails. \n",
    "#Repeat this 100 times - that is what is in the numheads list - the 100 diffs between #heads and #tails.\n",
    "#Remember - the difference part is key, we are looking for bias, so if one side shows more than the other, that's what we care about.  \n",
    "\n",
    "numHeads = []\n",
    "#Write the loop. Run 100 trials, in each one flip a coin 100 times. \n",
    "#The list above is the end result - the list of 100 differences between the #H and the #T\n",
    "\n",
    "\n",
    "#The loop below 'checks' each trial, and counts them. We want to see how many of these random trials \n",
    "#exceeds our test statistic, or how many 100 flip trials have differences in totals of H/T that are at least 10. \n",
    "#If lots of trials have that much of a diff, there is good reason be think that the 55/45 split might be random. \n",
    "#If it rarely happens in random trials - it is probably due to something else - so we reject the NH!\n",
    "#Change the teststat above and see, as the difference between H and T gets smaller, the more likely it is to be random.  \n",
    "success = 0\n",
    "#Write the loop. check each of the differences from the list above to see if it meets our criteria.\n",
    "#If it does, increment the counter above. \n",
    "#The end result is that success vvaraible being the total count of that. \n",
    "\n",
    "\n",
    "p = success/100\n",
    "print(\"P =\",p)\n",
    "#Check muh Null Hyp!!\n",
    "cutoff = .05\n",
    "if p < cutoff:\n",
    "    print(\"Reject null hypothesis - Effect appears significant\")\n",
    "else:\n",
    "    print(\"Accept null hypothesis - Effect may be due to random chance\")"
   ]
  },
  {
   "cell_type": "markdown",
   "metadata": {},
   "source": [
    "Above is a simplified, and non reusable version of what is going on in the book's code. It is also what happens behind the scenes in the ttest functions that we started with. "
   ]
  },
  {
   "cell_type": "markdown",
   "metadata": {},
   "source": [
    "We can do a slightly more complex one - the coin flip idea is pretty simple, what if we want to test a difference in means like the first example?\n",
    "\n",
    "<h1>Hypothesis Test, by hand, means in two groups</h1>\n",
    "\n",
    "NH - Is the difference in Blood Pressure between diabetics and non-diabetics significant?"
   ]
  },
  {
   "cell_type": "code",
   "execution_count": null,
   "metadata": {},
   "outputs": [],
   "source": [
    "#What is the test statistic?\n",
    "bpP, bpN = dfD[\"BloodPressure\"].mean(), dfN[\"BloodPressure\"].mean()\n",
    "print(bpP, bpN)\n",
    "bpDiff = abs(bpP-bpN)\n",
    "print(bpDiff, '<---That is my test stat. There is a diff in BP, does it matter?')\n",
    "dNegBP = dfN.BloodPressure\n",
    "dPosBP = dfD.BloodPressure\n"
   ]
  },
  {
   "cell_type": "markdown",
   "metadata": {},
   "source": [
    "For this one we can't really just use the probability like dice and make simple calculations. We need to do something slightly more involved. The technique we'll use is called permutation - in this contect that means we'll take all the blood pressures and mix them into one big group. \n",
    "\n",
    "For each of the trials, we'll then randomly shuffle them, split them into two new gorups, and count up how many times the difference between those two groups is greater than the test stat. If it is pretty common to see differences between the average blood pressure of the two random groups be large, that is an indication that the effect may be due to randomness. If it rarely happens, that is an indication that the effect is \"real\". "
   ]
  },
  {
   "cell_type": "code",
   "execution_count": null,
   "metadata": {},
   "outputs": [],
   "source": [
    "#Combines the two groups.\n",
    "#Get the length of one for splitting below. \n",
    "allBp = np.hstack((dNegBP, dPosBP))\n",
    "n = len(dNegBP)\n"
   ]
  },
  {
   "cell_type": "code",
   "execution_count": null,
   "metadata": {},
   "outputs": [],
   "source": [
    "#Generate random splits, and add the differnce in their means to a list. \n",
    "diffs = []\n",
    "#Write the loop. For each of 100 trials, shuffle the list of BP, then split it into two. \n",
    "#Check the difference in BP and add that value to the  list above. \n",
    "# The list of 100 diffs in BP is the final goal. \n",
    "#Note: there's probably many ways to do this, the easiest is likely np.random.shuffle\n",
    "#and then using allBp[n:] and allBp[:n] - which will split that list at n, giving you two pieces the sizes of the original data. \n",
    "#This part is programatically kind of weird, you can reference the solution and check back, but try to make sense of it. \n",
    "\n",
    "#Can print the result, just to see. \n",
    "diffs\n"
   ]
  },
  {
   "cell_type": "code",
   "execution_count": null,
   "metadata": {},
   "outputs": [],
   "source": [
    "#Take the differences in means from the random samples,\n",
    "#Count how many times that difference exceeds our test stat. \n",
    "success = 0\n",
    "#Write the loop. Just like the previous one. \n",
    "\n",
    "\n",
    "p = success/100\n",
    "print(\"P =\",p)\n",
    "#Check muh Null Hyp!!\n",
    "cutoff = .05\n",
    "if p < cutoff:\n",
    "    print(\"Reject null hypothesis - Effect appears significant\")\n",
    "else:\n",
    "    print(\"Accept null hypothesis - Effect may be due to random chance\")"
   ]
  },
  {
   "cell_type": "code",
   "execution_count": null,
   "metadata": {},
   "outputs": [],
   "source": [
    "#The easy way - ues the scipy ttest to calculate it.\n"
   ]
  },
  {
   "cell_type": "markdown",
   "metadata": {},
   "source": [
    "For both versions of the calculation above, the probability of the difference being due to chance is extremely low - so we reject the null hypothesis and we can conclude that diabetics and non-diabetics have a legit difference in blood pressure. \n",
    "\n",
    "(as an aside, one of the things that diabetes does is as your blood glucose increases, the blood itself becomes thicker. Pumping a thicker fluid increases pressure, so this result agrees with what we know. This is also a reason diabetes does damage, the thick blood can damage smaller vessels over time.)"
   ]
  },
  {
   "cell_type": "markdown",
   "metadata": {},
   "source": [
    "<h2>Challenge...</h2>\n",
    "Check if the difference in average GLUCOSE, BLOODPRESSURE, and BMI between people who have had a pregnancy vs people who have not is likely random or due to chance... \n",
    "\n",
    "Try to do one by hand, and the rest by using the scipy ttest function. "
   ]
  },
  {
   "cell_type": "code",
   "execution_count": null,
   "metadata": {},
   "outputs": [],
   "source": [
    "#Calculate here...."
   ]
  },
  {
   "cell_type": "markdown",
   "metadata": {},
   "source": [
    "<h1>For next time...</h1>"
   ]
  },
  {
   "cell_type": "markdown",
   "metadata": {},
   "source": [
    "<h2>How much can we trust these tests? We look at the POWER...(Book 9.10)</h2>\n",
    "\n",
    "This builds on the types of errors - false positive vs false negatives, like in a confusion matrix. "
   ]
  },
  {
   "cell_type": "markdown",
   "metadata": {},
   "source": [
    "<h2>What if the data isn't normal?</h2>\n",
    "The above tests have an assumption that the data is normal. What if it isn't?\n",
    "\n",
    "For non-normal data we need a different type of test, such as Mann-Whitney. "
   ]
  },
  {
   "cell_type": "markdown",
   "metadata": {},
   "source": [
    "<h2>What if there are 3 or more groups? </h2>\n",
    "\n",
    "We can use ANOVA - analysis of varaince. "
   ]
  }
 ],
 "metadata": {
  "interpreter": {
   "hash": "ea39297c2a3b8433e0e3c4b620aff79df88eb4bda961dfb2311fbafd7efdbd77"
  },
  "kernelspec": {
   "display_name": "Python 3.8.11 64-bit ('base': conda)",
   "name": "python3"
  },
  "language_info": {
   "codemirror_mode": {
    "name": "ipython",
    "version": 3
   },
   "file_extension": ".py",
   "mimetype": "text/x-python",
   "name": "python",
   "nbconvert_exporter": "python",
   "pygments_lexer": "ipython3",
   "version": "3.8.11"
  },
  "orig_nbformat": 4
 },
 "nbformat": 4,
 "nbformat_minor": 2
}
